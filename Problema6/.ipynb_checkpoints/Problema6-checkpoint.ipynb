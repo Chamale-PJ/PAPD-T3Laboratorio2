{
 "cells": [
  {
   "cell_type": "markdown",
   "id": "b7557113",
   "metadata": {},
   "source": [
    "![Logo](logoGalileo.png \"Logo\")\n",
    "***      \n",
    "# TEXT MINING & IMAGE RECOGNITION *Seccion* \"V\"\n",
    "## *LABORATORIO # 2* *Problema 6*\n",
    "##### **Pedro Josué Chamale Perez** - __23000478__"
   ]
  },
  {
   "cell_type": "markdown",
   "id": "9deac88d",
   "metadata": {},
   "source": [
    "### FILTRO LAPLACIANO\n",
    "El filtro laplaciano se recomienda para el realce de rasgos lineales en entornos urbanos. Otra op- ción para resaltar los elementos de mayor variabilidad es restar a la imagen original la obtenida mediante un filtrado laplaciano.\n",
    "\n",
    "El laplaciano\n",
    "El laplaciano de una función bidimensional f es un operador de derivación isotrópico (independiente de la dirección de la discontinuidad en la imagen) definido por:\n",
    "\n",
    "![Lap](Lap.jpg \"Lap\")\n",
    "\n",
    "Como en el caso del gradiente, la formulación del laplaciano puede\n",
    "implementarse en forma digital de varias maneras. La mas frecuente en la practica es aplicar la siguiente mascara:\n",
    "\n",
    "![mat](mat.jpg \"mat\")\n",
    "\n",
    "El laplaciano\n",
    "Nótese que la suma de los coeficientes de la máscara debe ser cero, lo que es\n",
    "coherente en el caso de que el punto en cuestión y sus vecinos tengan el\n",
    "mismo valor.\n",
    "Los píxeles del borde darán como respuesta un número negativo (o positivo)\n",
    "“grande”.\n",
    "Filtros espaciales de realce\n",
    "El Laplaciano no se suele usar directamente en la práctica por ser muy sensible\n",
    "al ruido, por lo que se suele usar sumado o restado (según la máscara usada)\n",
    "con la imagen original para realzar los contornos, como en el ejemplo siguiente.\n",
    "Por la misma razón, también a veces se usa primero un filtro gaussiano para\n",
    "eliminar ruido, lo que da lugar al filtro llamado Laplaciano del Gaussiano\n",
    "\n",
    "![for](for.jpg \"for\")"
   ]
  },
  {
   "cell_type": "markdown",
   "id": "9db2669d",
   "metadata": {},
   "source": [
    "### Detección de bordes Laplaciana\n",
    "Los detectores de bordes laplacianos son diferentes de los detectores de bordes mencionados anteriormente. En esta técnica sólo se utiliza un filtro (también llamado núcleo). **La detección de bordes laplaciana ejecuta derivadas de segundo orden en una sola pasada, lo que la hace susceptible al ruido.** Antes de utilizar este enfoque, la imagen se suaviza con un suavizado gaussiano para evitar esta susceptibilidad al ruido.\n",
    "\n",
    "La diferencia entre el Laplaciano y otros operadores es que, a diferencia de otros operadores, el **Laplaciano no elimina las aristas en ninguna dirección en particular, sino que elimina las aristas en la siguiente clasificación:** \n",
    "\n",
    "Bordes hacia adentro.\n",
    "Bordes hacia afuera.\n",
    "El Laplaciano es un operador derivado; sus usos resaltan las discontinuidades del nivel de gris en una imagen e intentan restar importancia a las regiones con niveles de gris que varían lentamente. Esta operación produce como resultado imágenes que tienen líneas de borde grisáceas y otras discontinuidades sobre un fondo oscuro. Esto produce bordes hacia adentro y hacia afuera en una imagen.\n",
    "\n"
   ]
  },
  {
   "cell_type": "code",
   "execution_count": null,
   "id": "795bcc76",
   "metadata": {},
   "outputs": [],
   "source": []
  }
 ],
 "metadata": {
  "kernelspec": {
   "display_name": "Python 3 (ipykernel)",
   "language": "python",
   "name": "python3"
  },
  "language_info": {
   "codemirror_mode": {
    "name": "ipython",
    "version": 3
   },
   "file_extension": ".py",
   "mimetype": "text/x-python",
   "name": "python",
   "nbconvert_exporter": "python",
   "pygments_lexer": "ipython3",
   "version": "3.9.13"
  }
 },
 "nbformat": 4,
 "nbformat_minor": 5
}
